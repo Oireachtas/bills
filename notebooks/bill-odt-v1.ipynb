{
 "cells": [
  {
   "cell_type": "code",
   "execution_count": 2,
   "metadata": {
    "collapsed": false
   },
   "outputs": [],
   "source": [
    "from lxml import etree\n",
    "import re\n",
    "from dateutil import parser\n",
    "from datetime import datetime"
   ]
  },
  {
   "cell_type": "code",
   "execution_count": 3,
   "metadata": {
    "collapsed": false
   },
   "outputs": [],
   "source": [
    "root = etree.parse(\"../data/interim/B3015D_unzipped_odt/content.xml\").getroot()"
   ]
  },
  {
   "cell_type": "code",
   "execution_count": 5,
   "metadata": {
    "collapsed": true
   },
   "outputs": [],
   "source": [
    "schema = etree.XMLSchema(etree.parse(\"http://docs.oasis-open.org/legaldocml/akn-core/v1.0/csprd01/part2-specs/schemas/akomantoso30.xsd\"))"
   ]
  },
  {
   "cell_type": "code",
   "execution_count": 45,
   "metadata": {
    "collapsed": false
   },
   "outputs": [],
   "source": [
    "AKN_3 = \"http://docs.oasis-open.org/legaldocml/ns/akn/3.0/CSD13\"\n",
    "XSI = \"http://www.w3.org/2001/XMLSchema-instance\"\n",
    "SCHEMA_LOCATION = \"http://docs.oasis-open.org/legaldocml/ns/akn/3.0/CSD13 ./akomantoso30.xsd \"\n",
    "\n",
    "nsmap = {None: AKN_3,\n",
    "        'xsi': XSI}\n",
    "\n",
    "AK = etree.Element(\"{\"+AKN_3+\"}akomaNtoso\", nsmap=nsmap, attrib={\"{\"+XSI+\"}schemaLocation\": SCHEMA_LOCATION  })"
   ]
  },
  {
   "cell_type": "code",
   "execution_count": 46,
   "metadata": {
    "collapsed": false
   },
   "outputs": [
    {
     "name": "stdout",
     "output_type": "stream",
     "text": [
      "2015-03-25\n"
     ]
    }
   ],
   "source": [
    "bill_odt = \"../data/interim/B3015D_unzipped_odt/content.xml\"\n",
    "bill_interim = \"../data/interim/B3015D_interim.xml\"\n",
    "bill_akn = \"../data/processed/B3015D.akn.xml\"\n",
    "\n",
    "with open(bill_odt, \"rb\") as f:\n",
    "        root = etree.fromstring(f.read().replace(b\"<text:tab/>\", b\" \"))\n",
    "    \n",
    "root = strip_ns_prefix(root)\n",
    "\n",
    "text = root.find(\"{*}body/{*}text\")\n",
    "text.remove(text.find(\"./forms\"))\n",
    "text.remove(text.find(\"./sequence-decls\"))\n",
    "\n",
    "backcover_name = root.xpath(\"./automatic-styles/style[@master-page-name='backcover']/@name\")[0]\n",
    "last_table = text.xpath(\"./table[@style-name='{}']\".format(backcover_name))[0]\n",
    "\n",
    "\n",
    "for decl in text.xpath(\"./user-field-decls/user-field-decl[starts-with(@name, '-pi-')]\"):\n",
    "    decl.getparent().remove(decl)\n",
    "\n",
    "#for hidden in text.findall(\".//hidden-text\"):\n",
    "#    hidden.getparent().attrib['page-line'] = hidden.attrib['string-value']\n",
    "etree.strip_tags(text, \"hidden-text\", \"span\", \"alphabetical-index-mark\")\n",
    "\n",
    "date = last_table.xpath(\".//table-cell//p[re:match(., '^\\d{1,2}\\w{2}\\s\\w+,\\s\\d{4}$')][1]\", \n",
    "                  namespaces={\"re\": \"http://exslt.org/regular-expressions\"})\n",
    "\n",
    "\n",
    "assert len(date)==1, \"Multiple values for date search\"\n",
    "date = str(parser.parse(date[0].text).date())\n",
    "print(date)\n",
    "text.remove(last_table)\n",
    "\n",
    "footer = text.xpath(\".//user-field-decl[@name='Footer']\")[0].attrib['string-value']\n",
    "bill_status = text.xpath(\".//user-field-decl[@name='EN_DOC_STAGE']\")[0].attrib['string-value']\n",
    "bill_id = re.search(\"No\\.\\s(?P<no>\\d+)(?P<version>[a-z])?\\sof\\s(?P<year>\\d{4})\", footer)\n",
    "assert bill_id is not None, \"No match for Bill ID\"\n",
    "bill_uri = \"/ie/oireachtas/bill/{}/{}\".format(bill_id.group(\"year\"), bill_id.group(\"no\"))\n",
    "\n",
    "\n",
    "bill_elem = etree.Element(\"bill\", name=\"Bill\")\n",
    "meta = etree.SubElement(bill_elem, \"meta\")\n",
    "identification = etree.SubElement(meta, \"identification\", {\"source\": \"#BillsOffice\"})\n",
    "frW = etree.SubElement(identification, \"FRBRWork\")\n",
    "etree.SubElement(frW, \"FRBRthis\", {\"value\": bill_uri+\"/main\"})\n",
    "etree.SubElement(frW, \"FRBRuri\", {\"value\": bill_uri})\n",
    "\n",
    "etree.SubElement(frW, \"FRBRdate\", {\"date\": date, \"name\": \"presented\"})\n",
    "etree.SubElement(frW, \"FRBRauthor\", {\"href\": \"#sponsor?\", \"as\": \"sponsor\"})\n",
    "etree.SubElement(frW, \"FRBRcountry\", {\"value\": \"#ie\"})\n",
    "\n",
    "frE = etree.SubElement(identification, \"FRBRExpression\")\n",
    "expression_uri = bill_uri+\"/eng@\"+bill_status.split()[-1]\n",
    "etree.SubElement(frE, \"FRBRthis\", {\"value\": expression_uri+\"/main\"})\n",
    "etree.SubElement(frE, \"FRBRuri\", {\"value\": expression_uri})\n",
    "etree.SubElement(frE, \"FRBRdate\", {\"date\": date, \"name\": \"published\"})\n",
    "etree.SubElement(frE, \"FRBRauthor\", {\"href\": \"?sponsor?\", \"as\": \"sponsor\"})\n",
    "etree.SubElement(frE, \"FRBRlanguage\", {\"language\": \"eng\"})\n",
    "\n",
    "frM = etree.SubElement(identification, \"FRBRManifestation\")\n",
    "expression_uri = bill_uri+\"/eng@\"+bill_status\n",
    "etree.SubElement(frM, \"FRBRthis\", {\"value\": expression_uri+\"/main.xml\"})\n",
    "etree.SubElement(frM, \"FRBRuri\", {\"value\": expression_uri+\".xml\"})\n",
    "\n",
    "etree.SubElement(frM, \"FRBRdate\", {\"date\": str(datetime.today().date()), \"name\": \"transformed\"})\n",
    "etree.SubElement(frM, \"FRBRauthor\", {\"href\": \"#BillsOffice\", \"as\": \"editor\"})\n",
    "\n",
    "coverPage = etree.SubElement(bill_elem, \"coverPage\")\n",
    "\n",
    "toc = etree.SubElement(coverPage, \"toc\", {'class': \"body\"})\n",
    "\n",
    "for tocItem in text.xpath(\"./p[starts-with(@style-name, 'toc')][./bookmark-ref]\"):\n",
    "    attrib = {\"href\": \"#\"+tocItem.find(\"./bookmark-ref\").attrib['ref-name'],\n",
    "              \"class\": tocItem.attrib['style-name'][3:],\n",
    "             \"level\": \"1\"}\n",
    "    toc_item = etree.SubElement(toc, \"tocItem\", attrib)\n",
    "    toc_no = etree.SubElement(toc_item, \"inline\", {\"name\": \"tocNum\"})\n",
    "    toc_no.text = tocItem.text\n",
    "    #toc_item.text = None\n",
    "    toc_hd = etree.SubElement(toc_item, \"inline\", {\"name\": \"tocHeading\"})\n",
    "    toc_hd.text = tocItem.find(\"./bookmark-ref\").text\n",
    "\n",
    "act_ref = etree.SubElement(coverPage, \"container\", {\"name\": \"actsReferredTo\"})\n",
    "#refs = etree.SubElement(act_ref, \"content\")\n",
    "act_text = etree.SubElement(act_ref, \"p\")\n",
    "act_text.text = \"Acts Referred To\"\n",
    "for p in text.xpath(\"./alphabetical-index[@name='Alphabetical Index1']/index-body/p\"):\n",
    "    p.attrib.pop(\"style-name\")\n",
    "    ref = re.search(\"(?P<year>\\d{4})\\s\\(No\\.\\s(?P<no>\\d+)\\)$\", p.text)\n",
    "    if ref is not None:\n",
    "        act_uri = \"#act.{}.{}\".format(ref.group(\"year\"), ref.group(\"no\"))\n",
    "        \n",
    "        ref = etree.SubElement(p, \"a\", {\"href\": act_uri})\n",
    "        ref.text = p.text\n",
    "        p.text = None\n",
    "    act_ref.append(p)\n",
    "\n",
    "preface = etree.SubElement(bill_elem, \"preface\")\n",
    "ga_p = etree.SubElement(preface, \"p\", {\"class\": \"ga_shorttitle\"})\n",
    "ga_shorttitle = etree.SubElement(ga_p, \"shortTitle\")\n",
    "ga_shorttitle.text = text.xpath(\".//user-field-decl[@name='GA_shorttitle_caps']/@string-value\")[0]\n",
    "\n",
    "en_p = etree.SubElement(preface, \"p\", {\"class\": \"en_shorttitle\"})\n",
    "en_shorttitle = etree.SubElement(en_p, \"shortTitle\")\n",
    "en_shorttitle.text = text.xpath(\".//user-field-decl[@name='EN_shorttitle']/@string-value\")[0]\n",
    "\n",
    "ga_stage = etree.SubElement(preface, \"p\", {\"class\": \"ga_stage\"})\n",
    "ga_docStage = etree.SubElement(ga_stage, \"docStage\")\n",
    "ga_docStage.text = text.xpath(\".//user-field-decl[@name='GA_DOC_STAGE']/@string-value\")[0]\n",
    "\n",
    "en_stage = etree.SubElement(preface, \"p\", {\"class\": \"en_stage\"})\n",
    "en_docStage = etree.SubElement(en_stage, \"docStage\")\n",
    "en_docStage.text = bill_status\n",
    "\n",
    "status_p = etree.SubElement(preface, \"p\", {\"class\": \"status\"})\n",
    "docStatus = etree.SubElement(status_p, \"docStatus\")\n",
    "docStatus.text = text.xpath(\".//user-field-decl[@name='STATUS']/@string-value\")[0]\n",
    "\n",
    "entitled = etree.SubElement(preface, \"p\")\n",
    "entitled.text = text.find(\"./p[@style-name='entitled']\").text\n",
    "\n",
    "long_title = etree.SubElement(preface, \"longTitle\")\n",
    "long_p = text.find(\"p[@style-name='longtitle']\")\n",
    "for key in long_p.attrib:\n",
    "    long_p.attrib.pop(key)\n",
    "long_title.append(long_p)\n",
    "\n",
    "for p in text.findall(\"./p\"):\n",
    "    if p.attrib['style-name'] == \"enacted\":\n",
    "        break\n",
    "    else:\n",
    "        text.remove(p)\n",
    "\n",
    "preamble = etree.SubElement(bill_elem, \"preamble\")\n",
    "enacted = text.find(\"./p[@style-name='enacted']\")\n",
    "for key in enacted.attrib:\n",
    "    enacted.attrib.pop(key)\n",
    "preamble.append(enacted)\n",
    "text.remove(text.find(\"user-field-decls\"))\n",
    "text.remove(text.find(\"alphabetical-index\"))\n",
    "body = etree.SubElement(bill_elem, \"body\")\n",
    "\n",
    "\n",
    "para_styles = {p.attrib['name']:p.attrib['parent-style-name'] for p in root.xpath(\"./automatic-styles/style[@family='paragraph']\")}\n",
    "for p in text.findall(\"./p[@style-name]\"):\n",
    "    if p.attrib['style-name'] in para_styles:\n",
    "        p.attrib['style-name'] = para_styles[p.attrib['style-name']]"
   ]
  },
  {
   "cell_type": "code",
   "execution_count": 47,
   "metadata": {
    "collapsed": true
   },
   "outputs": [],
   "source": [
    "with open(bill_interim, \"wb\") as f:\n",
    "    f.write(etree.tostring(text, encoding=\"utf-8\", pretty_print=True, xml_declaration=True))"
   ]
  },
  {
   "cell_type": "code",
   "execution_count": 48,
   "metadata": {
    "collapsed": false
   },
   "outputs": [],
   "source": [
    "for seq in text.xpath(\".//sequence\"):\n",
    "    seq.tag=\"num\"\n",
    "\n",
    "for top_elem in text.xpath(\"./p[./bookmark-start]\"):\n",
    "    bookmark = top_elem.find(\"./bookmark-start\")\n",
    "    \n",
    "    if top_elem.attrib[\"style-name\"] == \"shouldernote\":\n",
    "        num = top_elem.getnext().find(\"./num\")\n",
    "    else:\n",
    "        num = top_elem.find(\"./num\")\n",
    "    tag = num.attrib['name'].replace(\"number\", \"\")\n",
    "    tocID = bookmark.attrib.pop(\"name\")\n",
    "    eId = tag+\"-\"+num.text\n",
    "    toc.find(\"./tocItem[@href='#{}']\".format(tocID)).attrib['href'] =\"#\"+eId\n",
    "    \n",
    "    for e in [top_elem, num]:\n",
    "        for key in e.attrib:\n",
    "            e.attrib.pop(key)\n",
    "    container = etree.SubElement(body, tag, {\"eId\": eId})\n",
    "    container.append(num)\n",
    "    heading = etree.SubElement(container, \"heading\")\n",
    "    heading.text = \" \".join(top_elem.xpath(\".//text()\"))\n",
    "    container.append(heading)\n",
    "    for p in top_elem.xpath(\"./following-sibling::*\"):\n",
    "            if p.find(\"./bookmark-start\") is not None:\n",
    "                break\n",
    "            else:                \n",
    "                if p.attrib['style-name'] == container.tag:\n",
    "                    content = etree.SubElement(container, \"content\")\n",
    "                    content.append(p)\n",
    "                    p.tag = \"p\"\n",
    "                    for key in p.attrib:\n",
    "                            p.attrib.pop(key)\n",
    "                else:  \n",
    "                    if p.find(\"./num\") is not None:\n",
    "                        num = p.find(\"./num\")\n",
    "                        \n",
    "                        tag = p.attrib.pop('style-name')\n",
    "                        eId = container.attrib[\"eId\"] #xpath(\".//ancestor::*[@eId]/@eId\")\n",
    "                        eId = \"{}_{}-{}\".format(eId, tag, num.text)\n",
    "                        subelement = etree.SubElement(container, tag, {\"eId\": eId} )\n",
    "                        subelement.append(num)\n",
    "                        content = etree.SubElement(subelement, \"content\")\n",
    "                        content.append(p)\n",
    "                        \n",
    "                        \n",
    "                        num.tail = None\n",
    "                        for e in [p, num]:\n",
    "                            for key in e.attrib:\n",
    "                                e.attrib.pop(key)\n",
    "                        \n",
    "                    else:\n",
    "                        p.attrib['class'] = p.attrib.pop(\"style-name\").replace(\"5f_\", \"\")\n",
    "                        content.append(p)\n",
    "\n",
    "for c in body.xpath(\".//*[./content]\"):\n",
    "    content = c.find(\"./{*}content\")\n",
    "    if content !=c.getchildren()[-1]:\n",
    "        content.tag = \"intro\"\n",
    "        \n",
    "for a in bill_elem.findall(\".//a[@type]\"):\n",
    "    a.attrib.pop(\"type\")\n",
    "    \n",
    "etree.strip_tags(body, [\"bookmark-start\", \"bookmark-end\", \n",
    "                        \"soft-page-break\", \n",
    "                        \"alphabetical-index-mark-start\", \n",
    "                        \"alphabetical-index-mark-end\",\n",
    "                       \"reference-mark-start\",\n",
    "                       \"reference-mark-end\"])\n",
    "for p in body.findall(\".//p\"):\n",
    "    if p.text is not None:\n",
    "        p.text = re.sub(\"^\\.|^\\s\\(\\s|^\\.\\(\", \"\", p.text)"
   ]
  },
  {
   "cell_type": "code",
   "execution_count": 49,
   "metadata": {
    "collapsed": false
   },
   "outputs": [],
   "source": [
    "bill_elem = add_ns_prefix(bill_elem)\n",
    "AK.append(bill_elem)\n",
    "xml = etree.tostring(AK, encoding=\"UTF-8\", xml_declaration=True, pretty_print=True)\n",
    "#try:\n",
    "#    schema.assertValid(etree.fromstring(xml))\n",
    "#except etree.DocumentInvalid as e:\n",
    "#    print(e)\n",
    "with open(bill_akn, \"wb\") as f:\n",
    "    f.write(xml)"
   ]
  },
  {
   "cell_type": "code",
   "execution_count": 50,
   "metadata": {
    "collapsed": false
   },
   "outputs": [],
   "source": [
    "with open(\"bill-text.xml\", \"wb\") as f:\n",
    "    f.write(etree.tostring(text, encoding=\"utf-8\", pretty_print=True, xml_declaration=True))"
   ]
  },
  {
   "cell_type": "code",
   "execution_count": null,
   "metadata": {
    "collapsed": true
   },
   "outputs": [],
   "source": []
  }
 ],
 "metadata": {
  "anaconda-cloud": {},
  "kernelspec": {
   "display_name": "Python [Root]",
   "language": "python",
   "name": "Python [Root]"
  },
  "language_info": {
   "codemirror_mode": {
    "name": "ipython",
    "version": 3
   },
   "file_extension": ".py",
   "mimetype": "text/x-python",
   "name": "python",
   "nbconvert_exporter": "python",
   "pygments_lexer": "ipython3",
   "version": "3.5.2"
  }
 },
 "nbformat": 4,
 "nbformat_minor": 0
}
